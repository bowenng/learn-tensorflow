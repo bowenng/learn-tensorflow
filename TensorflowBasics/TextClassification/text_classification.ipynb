{
 "cells": [
  {
   "cell_type": "code",
   "execution_count": 1,
   "metadata": {
    "pycharm": {
     "is_executing": false
    }
   },
   "outputs": [
    {
     "name": "stdout",
     "output_type": "stream",
     "text": [
      "1.13.1\n"
     ]
    }
   ],
   "source": [
    "import tensorflow as tf\n",
    "from tensorflow import keras\n",
    "\n",
    "import numpy as np\n",
    "\n",
    "print(tf.__version__)\n"
   ]
  },
  {
   "cell_type": "code",
   "execution_count": 2,
   "metadata": {
    "pycharm": {
     "is_executing": false,
     "metadata": false,
     "name": "#%%\n"
    }
   },
   "outputs": [],
   "source": [
    "imdb = keras.datasets.imdb\n",
    "(train_data, train_labels), (test_data, test_labels) = imdb.load_data(num_words=10000)\n"
   ]
  },
  {
   "cell_type": "code",
   "execution_count": 3,
   "metadata": {
    "pycharm": {
     "is_executing": false,
     "metadata": false,
     "name": "#%%\n"
    }
   },
   "outputs": [
    {
     "name": "stdout",
     "output_type": "stream",
     "text": [
      "Training entries: 25000, labels: 25000\n"
     ]
    }
   ],
   "source": [
    "print(\"Training entries: {}, labels: {}\".format(len(train_data), len(train_labels)))"
   ]
  },
  {
   "cell_type": "code",
   "execution_count": 6,
   "metadata": {
    "pycharm": {
     "name": "#%%\n"
    }
   },
   "outputs": [],
   "source": [
    "word_index = imdb.get_word_index()\n",
    "\n",
    "w2i = {k: (v+3) for k, v in word_index.items()}\n",
    "w2i[\"<PAD>\"] = 0\n",
    "w2i[\"<START>\"] = 1\n",
    "w2i[\"<UNK>\"] = 2  # unknown\n",
    "w2i[\"<UNUSED>\"] = 3\n",
    "\n",
    "i2w = {v: k for k, v in w2i.items()}\n"
   ]
  },
  {
   "cell_type": "code",
   "execution_count": 12,
   "metadata": {},
   "outputs": [],
   "source": [
    "def decode_review(code):\n",
    "    return ' '.join(i2w.get(i, '?') for i in code)"
   ]
  },
  {
   "cell_type": "code",
   "execution_count": 13,
   "metadata": {},
   "outputs": [
    {
     "name": "stdout",
     "output_type": "stream",
     "text": [
      "<START> this film was just brilliant casting location scenery story direction everyone's really suited the part they played and you could just imagine being there robert <UNK> is an amazing actor and now the same being director <UNK> father came from the same scottish island as myself so i loved the fact there was a real connection with this film the witty remarks throughout the film were great it was just brilliant so much that i bought the film as soon as it was released for <UNK> and would recommend it to everyone to watch and the fly fishing was amazing really cried at the end it was so sad and you know what they say if you cry at a film it must have been good and this definitely was also <UNK> to the two little boy's that played the <UNK> of norman and paul they were just brilliant children are often left out of the <UNK> list i think because the stars that play them all grown up are such a big profile for the whole film but these children are amazing and should be praised for what they have done don't you think the whole story was so lovely because it was true and was someone's life after all that was shared with us all\n"
     ]
    }
   ],
   "source": [
    "print(decode_review(train_data[0]))"
   ]
  },
  {
   "cell_type": "code",
   "execution_count": 14,
   "metadata": {},
   "outputs": [],
   "source": [
    "train_data = keras.preprocessing.sequence.pad_sequences(train_data, \n",
    "                                                        value=w2i[\"<PAD>\"],\n",
    "                                                        padding='post',\n",
    "                                                        maxlen=256)\n",
    "test_data = keras.preprocessing.sequence.pad_sequences(test_data, \n",
    "                                                        value=w2i[\"<PAD>\"],\n",
    "                                                        padding='post',\n",
    "                                                        maxlen=256)\n"
   ]
  },
  {
   "cell_type": "code",
   "execution_count": 15,
   "metadata": {},
   "outputs": [
    {
     "name": "stdout",
     "output_type": "stream",
     "text": [
      "256\n",
      "256\n"
     ]
    }
   ],
   "source": [
    "print(len(train_data[0]))\n",
    "print(len(test_data[0]))"
   ]
  },
  {
   "cell_type": "code",
   "execution_count": 16,
   "metadata": {},
   "outputs": [
    {
     "name": "stdout",
     "output_type": "stream",
     "text": [
      "[   1   14   22   16   43  530  973 1622 1385   65  458 4468   66 3941\n",
      "    4  173   36  256    5   25  100   43  838  112   50  670    2    9\n",
      "   35  480  284    5  150    4  172  112  167    2  336  385   39    4\n",
      "  172 4536 1111   17  546   38   13  447    4  192   50   16    6  147\n",
      " 2025   19   14   22    4 1920 4613  469    4   22   71   87   12   16\n",
      "   43  530   38   76   15   13 1247    4   22   17  515   17   12   16\n",
      "  626   18    2    5   62  386   12    8  316    8  106    5    4 2223\n",
      " 5244   16  480   66 3785   33    4  130   12   16   38  619    5   25\n",
      "  124   51   36  135   48   25 1415   33    6   22   12  215   28   77\n",
      "   52    5   14  407   16   82    2    8    4  107  117 5952   15  256\n",
      "    4    2    7 3766    5  723   36   71   43  530  476   26  400  317\n",
      "   46    7    4    2 1029   13  104   88    4  381   15  297   98   32\n",
      " 2071   56   26  141    6  194 7486   18    4  226   22   21  134  476\n",
      "   26  480    5  144   30 5535   18   51   36   28  224   92   25  104\n",
      "    4  226   65   16   38 1334   88   12   16  283    5   16 4472  113\n",
      "  103   32   15   16 5345   19  178   32    0    0    0    0    0    0\n",
      "    0    0    0    0    0    0    0    0    0    0    0    0    0    0\n",
      "    0    0    0    0    0    0    0    0    0    0    0    0    0    0\n",
      "    0    0    0    0]\n"
     ]
    }
   ],
   "source": [
    "print(train_data[0])"
   ]
  },
  {
   "cell_type": "code",
   "execution_count": 19,
   "metadata": {},
   "outputs": [
    {
     "name": "stdout",
     "output_type": "stream",
     "text": [
      "_________________________________________________________________\n",
      "Layer (type)                 Output Shape              Param #   \n",
      "=================================================================\n",
      "embedding_2 (Embedding)      (None, None, 16)          160000    \n",
      "_________________________________________________________________\n",
      "global_average_pooling1d_1 ( (None, 16)                0         \n",
      "_________________________________________________________________\n",
      "dense (Dense)                (None, 16)                272       \n",
      "_________________________________________________________________\n",
      "dense_1 (Dense)              (None, 1)                 17        \n",
      "=================================================================\n",
      "Total params: 160,289\n",
      "Trainable params: 160,289\n",
      "Non-trainable params: 0\n",
      "_________________________________________________________________\n"
     ]
    }
   ],
   "source": [
    "vocab_size = 10000\n",
    "\n",
    "model = keras.Sequential([\n",
    "    keras.layers.Embedding(vocab_size, 16),\n",
    "    keras.layers.GlobalAveragePooling1D(),\n",
    "    keras.layers.Dense(16, activation=tf.nn.relu),\n",
    "    keras.layers.Dense(1, activation=tf.nn.sigmoid)\n",
    "])\n",
    "\n",
    "model.summary()"
   ]
  },
  {
   "cell_type": "code",
   "execution_count": 20,
   "metadata": {},
   "outputs": [],
   "source": [
    "model.compile(optimizer='adam',\n",
    "              loss='binary_crossentropy',\n",
    "              metrics=['acc'])"
   ]
  },
  {
   "cell_type": "code",
   "execution_count": 21,
   "metadata": {},
   "outputs": [],
   "source": [
    "x_val = train_data[:10000]\n",
    "partial_x_train = train_data[10000:]\n",
    "\n",
    "y_val = train_labels[:10000]\n",
    "partial_y_train = train_labels[10000:]"
   ]
  },
  {
   "cell_type": "code",
   "execution_count": 22,
   "metadata": {},
   "outputs": [
    {
     "name": "stdout",
     "output_type": "stream",
     "text": [
      "Train on 15000 samples, validate on 10000 samples\n",
      "WARNING:tensorflow:From /Users/bryanwu/anaconda/lib/python3.7/site-packages/tensorflow/python/ops/math_ops.py:3066: to_int32 (from tensorflow.python.ops.math_ops) is deprecated and will be removed in a future version.\n",
      "Instructions for updating:\n",
      "Use tf.cast instead.\n",
      "Epoch 1/40\n",
      "15000/15000 [==============================] - 1s 58us/sample - loss: 0.6911 - acc: 0.5783 - val_loss: 0.6882 - val_acc: 0.6127\n",
      "Epoch 2/40\n",
      "15000/15000 [==============================] - 0s 25us/sample - loss: 0.6831 - acc: 0.7033 - val_loss: 0.6782 - val_acc: 0.7118\n",
      "Epoch 3/40\n",
      "15000/15000 [==============================] - 0s 24us/sample - loss: 0.6679 - acc: 0.7417 - val_loss: 0.6596 - val_acc: 0.7565\n",
      "Epoch 4/40\n",
      "15000/15000 [==============================] - 0s 21us/sample - loss: 0.6427 - acc: 0.7591 - val_loss: 0.6315 - val_acc: 0.7707\n",
      "Epoch 5/40\n",
      "15000/15000 [==============================] - 0s 27us/sample - loss: 0.6071 - acc: 0.7935 - val_loss: 0.5951 - val_acc: 0.7934\n",
      "Epoch 6/40\n",
      "15000/15000 [==============================] - 0s 27us/sample - loss: 0.5635 - acc: 0.8185 - val_loss: 0.5539 - val_acc: 0.8071\n",
      "Epoch 7/40\n",
      "15000/15000 [==============================] - 0s 24us/sample - loss: 0.5159 - acc: 0.8333 - val_loss: 0.5095 - val_acc: 0.8255\n",
      "Epoch 8/40\n",
      "15000/15000 [==============================] - 0s 22us/sample - loss: 0.4689 - acc: 0.8509 - val_loss: 0.4693 - val_acc: 0.8365\n",
      "Epoch 9/40\n",
      "15000/15000 [==============================] - 0s 21us/sample - loss: 0.4258 - acc: 0.8649 - val_loss: 0.4336 - val_acc: 0.8469\n",
      "Epoch 10/40\n",
      "15000/15000 [==============================] - 0s 21us/sample - loss: 0.3880 - acc: 0.8759 - val_loss: 0.4044 - val_acc: 0.8534\n",
      "Epoch 11/40\n",
      "15000/15000 [==============================] - 0s 25us/sample - loss: 0.3562 - acc: 0.8839 - val_loss: 0.3803 - val_acc: 0.8614\n",
      "Epoch 12/40\n",
      "15000/15000 [==============================] - 0s 23us/sample - loss: 0.3293 - acc: 0.8923 - val_loss: 0.3620 - val_acc: 0.8637\n",
      "Epoch 13/40\n",
      "15000/15000 [==============================] - 0s 21us/sample - loss: 0.3073 - acc: 0.8980 - val_loss: 0.3457 - val_acc: 0.8705\n",
      "Epoch 14/40\n",
      "15000/15000 [==============================] - 0s 22us/sample - loss: 0.2874 - acc: 0.9027 - val_loss: 0.3338 - val_acc: 0.8738\n",
      "Epoch 15/40\n",
      "15000/15000 [==============================] - 0s 21us/sample - loss: 0.2707 - acc: 0.9081 - val_loss: 0.3238 - val_acc: 0.8741\n",
      "Epoch 16/40\n",
      "15000/15000 [==============================] - 0s 23us/sample - loss: 0.2557 - acc: 0.9137 - val_loss: 0.3157 - val_acc: 0.8757\n",
      "Epoch 17/40\n",
      "15000/15000 [==============================] - 0s 26us/sample - loss: 0.2418 - acc: 0.9175 - val_loss: 0.3089 - val_acc: 0.8787\n",
      "Epoch 18/40\n",
      "15000/15000 [==============================] - 0s 20us/sample - loss: 0.2296 - acc: 0.9217 - val_loss: 0.3031 - val_acc: 0.8812\n",
      "Epoch 19/40\n",
      "15000/15000 [==============================] - 0s 22us/sample - loss: 0.2185 - acc: 0.9241 - val_loss: 0.2983 - val_acc: 0.8817\n",
      "Epoch 20/40\n",
      "15000/15000 [==============================] - 0s 21us/sample - loss: 0.2085 - acc: 0.9282 - val_loss: 0.2950 - val_acc: 0.8823\n",
      "Epoch 21/40\n",
      "15000/15000 [==============================] - 0s 26us/sample - loss: 0.1983 - acc: 0.9335 - val_loss: 0.2922 - val_acc: 0.8828\n",
      "Epoch 22/40\n",
      "15000/15000 [==============================] - 0s 23us/sample - loss: 0.1897 - acc: 0.9369 - val_loss: 0.2898 - val_acc: 0.8841\n",
      "Epoch 23/40\n",
      "15000/15000 [==============================] - 0s 21us/sample - loss: 0.1811 - acc: 0.9415 - val_loss: 0.2890 - val_acc: 0.8836\n",
      "Epoch 24/40\n",
      "15000/15000 [==============================] - 0s 21us/sample - loss: 0.1737 - acc: 0.9438 - val_loss: 0.2875 - val_acc: 0.8853\n",
      "Epoch 25/40\n",
      "15000/15000 [==============================] - 0s 23us/sample - loss: 0.1661 - acc: 0.9475 - val_loss: 0.2861 - val_acc: 0.8852\n",
      "Epoch 26/40\n",
      "15000/15000 [==============================] - 0s 24us/sample - loss: 0.1593 - acc: 0.9497 - val_loss: 0.2869 - val_acc: 0.8838\n",
      "Epoch 27/40\n",
      "15000/15000 [==============================] - 0s 24us/sample - loss: 0.1528 - acc: 0.9527 - val_loss: 0.2864 - val_acc: 0.8847\n",
      "Epoch 28/40\n",
      "15000/15000 [==============================] - 0s 24us/sample - loss: 0.1467 - acc: 0.9551 - val_loss: 0.2872 - val_acc: 0.8859\n",
      "Epoch 29/40\n",
      "15000/15000 [==============================] - 0s 22us/sample - loss: 0.1413 - acc: 0.9581 - val_loss: 0.2887 - val_acc: 0.8843\n",
      "Epoch 30/40\n",
      "15000/15000 [==============================] - 0s 21us/sample - loss: 0.1356 - acc: 0.9596 - val_loss: 0.2883 - val_acc: 0.8860\n",
      "Epoch 31/40\n",
      "15000/15000 [==============================] - 0s 24us/sample - loss: 0.1298 - acc: 0.9620 - val_loss: 0.2894 - val_acc: 0.8867\n",
      "Epoch 32/40\n",
      "15000/15000 [==============================] - 0s 23us/sample - loss: 0.1248 - acc: 0.9651 - val_loss: 0.2910 - val_acc: 0.8855\n",
      "Epoch 33/40\n",
      "15000/15000 [==============================] - 0s 21us/sample - loss: 0.1198 - acc: 0.9667 - val_loss: 0.2934 - val_acc: 0.8856\n",
      "Epoch 34/40\n",
      "15000/15000 [==============================] - 0s 22us/sample - loss: 0.1154 - acc: 0.9677 - val_loss: 0.2956 - val_acc: 0.8849\n",
      "Epoch 35/40\n",
      "15000/15000 [==============================] - 0s 22us/sample - loss: 0.1112 - acc: 0.9684 - val_loss: 0.2982 - val_acc: 0.8848\n",
      "Epoch 36/40\n",
      "15000/15000 [==============================] - 0s 24us/sample - loss: 0.1068 - acc: 0.9709 - val_loss: 0.3000 - val_acc: 0.8834\n",
      "Epoch 37/40\n",
      "15000/15000 [==============================] - 0s 23us/sample - loss: 0.1025 - acc: 0.9721 - val_loss: 0.3027 - val_acc: 0.8834\n",
      "Epoch 38/40\n",
      "15000/15000 [==============================] - 0s 23us/sample - loss: 0.0986 - acc: 0.9734 - val_loss: 0.3064 - val_acc: 0.8826\n",
      "Epoch 39/40\n",
      "15000/15000 [==============================] - 0s 26us/sample - loss: 0.0954 - acc: 0.9750 - val_loss: 0.3102 - val_acc: 0.8813\n",
      "Epoch 40/40\n",
      "15000/15000 [==============================] - 0s 24us/sample - loss: 0.0913 - acc: 0.9769 - val_loss: 0.3132 - val_acc: 0.8825\n"
     ]
    }
   ],
   "source": [
    "history = model.fit(partial_x_train, partial_y_train, epochs=40, batch_size=512, validation_data=(x_val, y_val), verbose=True)"
   ]
  },
  {
   "cell_type": "code",
   "execution_count": 23,
   "metadata": {},
   "outputs": [
    {
     "name": "stdout",
     "output_type": "stream",
     "text": [
      "25000/25000 [==============================] - 1s 22us/sample - loss: 0.3344 - acc: 0.8709\n",
      "[0.3344290574169159, 0.87088]\n"
     ]
    }
   ],
   "source": [
    "results = model.evaluate(test_data, test_labels)\n",
    "print(results)"
   ]
  },
  {
   "cell_type": "code",
   "execution_count": 26,
   "metadata": {},
   "outputs": [
    {
     "name": "stdout",
     "output_type": "stream",
     "text": [
      "<tensorflow.python.keras.callbacks.History object at 0xb26f492e8>\n"
     ]
    }
   ],
   "source": [
    "history_dict = history.history\n",
    "history_dict.keys()"
   ]
  },
  {
   "cell_type": "code",
   "execution_count": 30,
   "metadata": {},
   "outputs": [
    {
     "data": {
      "image/png": "[encoded data removed]",
      "text/plain": [
       "<Figure size 432x288 with 1 Axes>"
      ]
     },
     "metadata": {
      "needs_background": "light"
     },
     "output_type": "display_data"
    }
   ],
   "source": [
    "import matplotlib.pyplot as plt\n",
    "%matplotlib inline\n",
    "\n",
    "acc = history_dict['acc']\n",
    "val_acc = history_dict['val_acc']\n",
    "loss = history_dict['loss']\n",
    "val_loss = history_dict['val_loss']\n",
    "\n",
    "epochs = range(1, len(acc)+1)\n",
    "\n",
    "plt.plot(epochs, loss, 'bo', label='Training Loss')\n",
    "plt.plot(epochs, val_loss, 'b', label='Validation Loss')\n",
    "plt.title('Training(dotted) and Validation(solid) Loss')\n",
    "plt.xlabel('Epochs')\n",
    "plt.ylabel('Loss')\n",
    "plt.legend()\n",
    "\n",
    "plt.show()"
   ]
  },
  {
   "cell_type": "code",
   "execution_count": 31,
   "metadata": {},
   "outputs": [
    {
     "data": {
      "image/png": "[encoded data removed]",
      "text/plain": [
       "<Figure size 432x288 with 1 Axes>"
      ]
     },
     "metadata": {
      "needs_background": "light"
     },
     "output_type": "display_data"
    }
   ],
   "source": [
    "plt.plot(epochs, acc, 'bo', label='Training acc')\n",
    "plt.plot(epochs, val_acc, 'b', label='Validation acc')\n",
    "plt.title('Training and validation accuracy')\n",
    "plt.xlabel('Epochs')\n",
    "plt.ylabel('Accuracy')\n",
    "plt.legend()\n",
    "\n",
    "plt.show()"
   ]
  },
  {
   "cell_type": "code",
   "execution_count": null,
   "metadata": {},
   "outputs": [],
   "source": []
  }
 ],
 "metadata": {
  "kernelspec": {
   "display_name": "Python 3",
   "language": "python",
   "name": "python3"
  },
  "language_info": {
   "codemirror_mode": {
    "name": "ipython",
    "version": 3
   },
   "file_extension": ".py",
   "mimetype": "text/x-python",
   "name": "python",
   "nbconvert_exporter": "python",
   "pygments_lexer": "ipython3",
   "version": "3.7.3"
  },
  "pycharm": {
   "stem_cell": {
    "cell_type": "raw",
    "metadata": {
     "collapsed": false
    },
    "source": []
   }
  }
 },
 "nbformat": 4,
 "nbformat_minor": 1
}
